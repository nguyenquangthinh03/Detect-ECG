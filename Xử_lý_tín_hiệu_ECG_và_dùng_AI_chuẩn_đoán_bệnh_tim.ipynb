{
  "cells": [
    {
      "cell_type": "markdown",
      "source": [
        "**Cài đặt thư viện**\n"
      ],
      "metadata": {
        "id": "AouNwk_RKvkO"
      }
    },
    {
      "cell_type": "code",
      "source": [
        "!pip install dash\n",
        "!pip install neurokit2\n",
        "!pip install PyWavelets"
      ],
      "metadata": {
        "colab": {
          "base_uri": "https://localhost:8080/"
        },
        "id": "YB4WlEq6LlLc",
        "outputId": "9fba54db-491d-46de-d708-562ddd40bd39"
      },
      "execution_count": null,
      "outputs": [
        {
          "output_type": "stream",
          "name": "stdout",
          "text": [
            "Requirement already satisfied: dash in /usr/local/lib/python3.10/dist-packages (2.18.2)\n",
            "Requirement already satisfied: Flask<3.1,>=1.0.4 in /usr/local/lib/python3.10/dist-packages (from dash) (3.0.3)\n",
            "Requirement already satisfied: Werkzeug<3.1 in /usr/local/lib/python3.10/dist-packages (from dash) (3.0.6)\n",
            "Requirement already satisfied: plotly>=5.0.0 in /usr/local/lib/python3.10/dist-packages (from dash) (5.24.1)\n",
            "Requirement already satisfied: dash-html-components==2.0.0 in /usr/local/lib/python3.10/dist-packages (from dash) (2.0.0)\n",
            "Requirement already satisfied: dash-core-components==2.0.0 in /usr/local/lib/python3.10/dist-packages (from dash) (2.0.0)\n",
            "Requirement already satisfied: dash-table==5.0.0 in /usr/local/lib/python3.10/dist-packages (from dash) (5.0.0)\n",
            "Requirement already satisfied: importlib-metadata in /usr/local/lib/python3.10/dist-packages (from dash) (8.5.0)\n",
            "Requirement already satisfied: typing-extensions>=4.1.1 in /usr/local/lib/python3.10/dist-packages (from dash) (4.12.2)\n",
            "Requirement already satisfied: requests in /usr/local/lib/python3.10/dist-packages (from dash) (2.32.3)\n",
            "Requirement already satisfied: retrying in /usr/local/lib/python3.10/dist-packages (from dash) (1.3.4)\n",
            "Requirement already satisfied: nest-asyncio in /usr/local/lib/python3.10/dist-packages (from dash) (1.6.0)\n",
            "Requirement already satisfied: setuptools in /usr/local/lib/python3.10/dist-packages (from dash) (75.1.0)\n",
            "Requirement already satisfied: Jinja2>=3.1.2 in /usr/local/lib/python3.10/dist-packages (from Flask<3.1,>=1.0.4->dash) (3.1.4)\n",
            "Requirement already satisfied: itsdangerous>=2.1.2 in /usr/local/lib/python3.10/dist-packages (from Flask<3.1,>=1.0.4->dash) (2.2.0)\n",
            "Requirement already satisfied: click>=8.1.3 in /usr/local/lib/python3.10/dist-packages (from Flask<3.1,>=1.0.4->dash) (8.1.7)\n",
            "Requirement already satisfied: blinker>=1.6.2 in /usr/local/lib/python3.10/dist-packages (from Flask<3.1,>=1.0.4->dash) (1.9.0)\n",
            "Requirement already satisfied: tenacity>=6.2.0 in /usr/local/lib/python3.10/dist-packages (from plotly>=5.0.0->dash) (9.0.0)\n",
            "Requirement already satisfied: packaging in /usr/local/lib/python3.10/dist-packages (from plotly>=5.0.0->dash) (24.2)\n",
            "Requirement already satisfied: MarkupSafe>=2.1.1 in /usr/local/lib/python3.10/dist-packages (from Werkzeug<3.1->dash) (3.0.2)\n",
            "Requirement already satisfied: zipp>=3.20 in /usr/local/lib/python3.10/dist-packages (from importlib-metadata->dash) (3.21.0)\n",
            "Requirement already satisfied: charset-normalizer<4,>=2 in /usr/local/lib/python3.10/dist-packages (from requests->dash) (3.4.0)\n",
            "Requirement already satisfied: idna<4,>=2.5 in /usr/local/lib/python3.10/dist-packages (from requests->dash) (3.10)\n",
            "Requirement already satisfied: urllib3<3,>=1.21.1 in /usr/local/lib/python3.10/dist-packages (from requests->dash) (2.2.3)\n",
            "Requirement already satisfied: certifi>=2017.4.17 in /usr/local/lib/python3.10/dist-packages (from requests->dash) (2024.8.30)\n",
            "Requirement already satisfied: six>=1.7.0 in /usr/local/lib/python3.10/dist-packages (from retrying->dash) (1.17.0)\n",
            "Requirement already satisfied: neurokit2 in /usr/local/lib/python3.10/dist-packages (0.2.10)\n",
            "Requirement already satisfied: requests in /usr/local/lib/python3.10/dist-packages (from neurokit2) (2.32.3)\n",
            "Requirement already satisfied: numpy in /usr/local/lib/python3.10/dist-packages (from neurokit2) (1.26.4)\n",
            "Requirement already satisfied: pandas in /usr/local/lib/python3.10/dist-packages (from neurokit2) (2.2.2)\n",
            "Requirement already satisfied: scipy in /usr/local/lib/python3.10/dist-packages (from neurokit2) (1.13.1)\n",
            "Requirement already satisfied: scikit-learn>=1.0.0 in /usr/local/lib/python3.10/dist-packages (from neurokit2) (1.5.2)\n",
            "Requirement already satisfied: matplotlib in /usr/local/lib/python3.10/dist-packages (from neurokit2) (3.8.0)\n",
            "Requirement already satisfied: joblib>=1.2.0 in /usr/local/lib/python3.10/dist-packages (from scikit-learn>=1.0.0->neurokit2) (1.4.2)\n",
            "Requirement already satisfied: threadpoolctl>=3.1.0 in /usr/local/lib/python3.10/dist-packages (from scikit-learn>=1.0.0->neurokit2) (3.5.0)\n",
            "Requirement already satisfied: contourpy>=1.0.1 in /usr/local/lib/python3.10/dist-packages (from matplotlib->neurokit2) (1.3.1)\n",
            "Requirement already satisfied: cycler>=0.10 in /usr/local/lib/python3.10/dist-packages (from matplotlib->neurokit2) (0.12.1)\n",
            "Requirement already satisfied: fonttools>=4.22.0 in /usr/local/lib/python3.10/dist-packages (from matplotlib->neurokit2) (4.55.3)\n",
            "Requirement already satisfied: kiwisolver>=1.0.1 in /usr/local/lib/python3.10/dist-packages (from matplotlib->neurokit2) (1.4.7)\n",
            "Requirement already satisfied: packaging>=20.0 in /usr/local/lib/python3.10/dist-packages (from matplotlib->neurokit2) (24.2)\n",
            "Requirement already satisfied: pillow>=6.2.0 in /usr/local/lib/python3.10/dist-packages (from matplotlib->neurokit2) (11.0.0)\n",
            "Requirement already satisfied: pyparsing>=2.3.1 in /usr/local/lib/python3.10/dist-packages (from matplotlib->neurokit2) (3.2.0)\n",
            "Requirement already satisfied: python-dateutil>=2.7 in /usr/local/lib/python3.10/dist-packages (from matplotlib->neurokit2) (2.8.2)\n",
            "Requirement already satisfied: pytz>=2020.1 in /usr/local/lib/python3.10/dist-packages (from pandas->neurokit2) (2024.2)\n",
            "Requirement already satisfied: tzdata>=2022.7 in /usr/local/lib/python3.10/dist-packages (from pandas->neurokit2) (2024.2)\n",
            "Requirement already satisfied: charset-normalizer<4,>=2 in /usr/local/lib/python3.10/dist-packages (from requests->neurokit2) (3.4.0)\n",
            "Requirement already satisfied: idna<4,>=2.5 in /usr/local/lib/python3.10/dist-packages (from requests->neurokit2) (3.10)\n",
            "Requirement already satisfied: urllib3<3,>=1.21.1 in /usr/local/lib/python3.10/dist-packages (from requests->neurokit2) (2.2.3)\n",
            "Requirement already satisfied: certifi>=2017.4.17 in /usr/local/lib/python3.10/dist-packages (from requests->neurokit2) (2024.8.30)\n",
            "Requirement already satisfied: six>=1.5 in /usr/local/lib/python3.10/dist-packages (from python-dateutil>=2.7->matplotlib->neurokit2) (1.17.0)\n",
            "Requirement already satisfied: PyWavelets in /usr/local/lib/python3.10/dist-packages (1.8.0)\n",
            "Requirement already satisfied: numpy<3,>=1.23 in /usr/local/lib/python3.10/dist-packages (from PyWavelets) (1.26.4)\n"
          ]
        }
      ]
    },
    {
      "cell_type": "code",
      "execution_count": null,
      "metadata": {
        "id": "vSp4KGC1uq_K"
      },
      "outputs": [],
      "source": [
        "import pandas as pd\n",
        "import numpy as np\n",
        "from sklearn.model_selection import train_test_split\n",
        "from sklearn.ensemble import RandomForestClassifier\n",
        "from sklearn.metrics import accuracy_score, confusion_matrix\n",
        "from sklearn.preprocessing import LabelEncoder\n",
        "from sklearn import preprocessing\n",
        "import random\n",
        "import dash\n",
        "from dash import dcc, html\n",
        "import plotly.graph_objs as go\n",
        "import base64\n",
        "import io\n",
        "from scipy.signal import find_peaks\n",
        "import neurokit2 as nk  # Thư viện Neurokit2 để tìm đỉnh PQRST\n",
        "import pywt  # Thư viện PyWavelets để lọc wavelet\n",
        "from scipy.signal import butter, filtfilt, iirnotch\n"
      ]
    },
    {
      "cell_type": "markdown",
      "source": [
        "**Load dataset để train model**"
      ],
      "metadata": {
        "id": "2GP5oXaoLtN7"
      }
    },
    {
      "cell_type": "code",
      "execution_count": null,
      "metadata": {
        "id": "YQTla0f0u7Dn"
      },
      "outputs": [],
      "source": [
        "file_path = 'MIT-BIH Arrhythmia Database.csv'\n",
        "data_df = pd.read_csv(file_path)"
      ]
    },
    {
      "cell_type": "markdown",
      "source": [
        "**Lấy các đặc trưng trong dataset để trainning**"
      ],
      "metadata": {
        "id": "e7isIhU1L0N8"
      }
    },
    {
      "cell_type": "code",
      "execution_count": null,
      "metadata": {
        "id": "Nd9PiYMyI0VE"
      },
      "outputs": [],
      "source": [
        "x_data = data_df.iloc[:, 2:13]\n",
        "y_label = data_df[['type']]"
      ]
    },
    {
      "cell_type": "markdown",
      "source": [
        "**Gán nhãn cho các loại nhịp tim**"
      ],
      "metadata": {
        "id": "j33o7qLgL-VM"
      }
    },
    {
      "cell_type": "code",
      "execution_count": null,
      "metadata": {
        "id": "aL8Eb1b86Yih",
        "colab": {
          "base_uri": "https://localhost:8080/"
        },
        "outputId": "134ec3dd-10bd-4571-a475-3199548b5e22"
      },
      "outputs": [
        {
          "output_type": "stream",
          "name": "stderr",
          "text": [
            "<ipython-input-32-f4902967a3fb>:1: SettingWithCopyWarning:\n",
            "\n",
            "\n",
            "A value is trying to be set on a copy of a slice from a DataFrame\n",
            "\n",
            "See the caveats in the documentation: https://pandas.pydata.org/pandas-docs/stable/user_guide/indexing.html#returning-a-view-versus-a-copy\n",
            "\n",
            "<ipython-input-32-f4902967a3fb>:2: SettingWithCopyWarning:\n",
            "\n",
            "\n",
            "A value is trying to be set on a copy of a slice from a DataFrame\n",
            "\n",
            "See the caveats in the documentation: https://pandas.pydata.org/pandas-docs/stable/user_guide/indexing.html#returning-a-view-versus-a-copy\n",
            "\n",
            "<ipython-input-32-f4902967a3fb>:3: SettingWithCopyWarning:\n",
            "\n",
            "\n",
            "A value is trying to be set on a copy of a slice from a DataFrame\n",
            "\n",
            "See the caveats in the documentation: https://pandas.pydata.org/pandas-docs/stable/user_guide/indexing.html#returning-a-view-versus-a-copy\n",
            "\n",
            "<ipython-input-32-f4902967a3fb>:4: SettingWithCopyWarning:\n",
            "\n",
            "\n",
            "A value is trying to be set on a copy of a slice from a DataFrame\n",
            "\n",
            "See the caveats in the documentation: https://pandas.pydata.org/pandas-docs/stable/user_guide/indexing.html#returning-a-view-versus-a-copy\n",
            "\n",
            "<ipython-input-32-f4902967a3fb>:5: SettingWithCopyWarning:\n",
            "\n",
            "\n",
            "A value is trying to be set on a copy of a slice from a DataFrame\n",
            "\n",
            "See the caveats in the documentation: https://pandas.pydata.org/pandas-docs/stable/user_guide/indexing.html#returning-a-view-versus-a-copy\n",
            "\n"
          ]
        }
      ],
      "source": [
        "y_label.replace(['N'], 'Normal', inplace=True)\n",
        "y_label.replace(['VEB'], 'Supraventricular ectopic beat', inplace=True)\n",
        "y_label.replace(['SVEB'], 'Ventricular ectopic beat', inplace=True)\n",
        "y_label.replace(['F'], 'Fusion beat', inplace=True)\n",
        "y_label.replace(['Q'], 'Unknown beat', inplace=True)"
      ]
    },
    {
      "cell_type": "markdown",
      "source": [
        "**Chuyển nhãn về dạng số**"
      ],
      "metadata": {
        "id": "5xGrMj2rMHwU"
      }
    },
    {
      "cell_type": "code",
      "execution_count": null,
      "metadata": {
        "id": "wsInf0MbMZ__",
        "colab": {
          "base_uri": "https://localhost:8080/"
        },
        "outputId": "a22a682d-a698-40e6-b7ee-60a2a6737434"
      },
      "outputs": [
        {
          "output_type": "stream",
          "name": "stderr",
          "text": [
            "/usr/local/lib/python3.10/dist-packages/sklearn/preprocessing/_label.py:114: DataConversionWarning:\n",
            "\n",
            "A column-vector y was passed when a 1d array was expected. Please change the shape of y to (n_samples, ), for example using ravel().\n",
            "\n"
          ]
        }
      ],
      "source": [
        "encoder = LabelEncoder()\n",
        "y_label = encoder.fit_transform(y_label)"
      ]
    },
    {
      "cell_type": "markdown",
      "source": [
        "**Chia dữ liệu thành tập train và tập test**"
      ],
      "metadata": {
        "id": "3a-I1O_-MLBU"
      }
    },
    {
      "cell_type": "code",
      "execution_count": null,
      "metadata": {
        "id": "q6hdTiqR6eLV"
      },
      "outputs": [],
      "source": [
        "X_train, X_test, y_train, y_test = train_test_split(x_data, y_label,test_size=0.2, random_state=101)"
      ]
    },
    {
      "cell_type": "markdown",
      "source": [
        "**Chuẩn hóa dữ liệu**"
      ],
      "metadata": {
        "id": "lwgKPgg9MPU9"
      }
    },
    {
      "cell_type": "code",
      "execution_count": null,
      "metadata": {
        "id": "20LW__NK62Mk"
      },
      "outputs": [],
      "source": [
        "min_max_scaler = preprocessing.MinMaxScaler()\n",
        "X_train_scaled = min_max_scaler.fit_transform(X_train)\n",
        "X_test_scaled = min_max_scaler.transform(X_test)"
      ]
    },
    {
      "cell_type": "markdown",
      "source": [
        "**Training model**"
      ],
      "metadata": {
        "id": "ok7wAjKcMUjD"
      }
    },
    {
      "cell_type": "code",
      "execution_count": null,
      "metadata": {
        "id": "oubi1TRp68IH",
        "colab": {
          "base_uri": "https://localhost:8080/"
        },
        "outputId": "b9e99730-ca55-4528-867f-44889df3bf4d"
      },
      "outputs": [
        {
          "output_type": "stream",
          "name": "stdout",
          "text": [
            "Accuracy for the train data 1.0\n"
          ]
        }
      ],
      "source": [
        "model = RandomForestClassifier(random_state=101, n_estimators=150)\n",
        "model.fit(X_train_scaled, y_train)\n",
        "\n",
        "# training accuracy\n",
        "print('Accuracy for the train data', model.score(X_train_scaled, y_train))"
      ]
    },
    {
      "cell_type": "markdown",
      "source": [
        "**Tính toán độ chính xác của model với dữ liệu test đã chia**"
      ],
      "metadata": {
        "id": "gYbWoa0oMd37"
      }
    },
    {
      "cell_type": "code",
      "execution_count": null,
      "metadata": {
        "id": "yR3ZqUSZ7o2f",
        "colab": {
          "base_uri": "https://localhost:8080/"
        },
        "outputId": "2209cbd1-c6cb-44a3-b9cd-bcdda4477272"
      },
      "outputs": [
        {
          "output_type": "stream",
          "name": "stdout",
          "text": [
            "0.9833151256331314\n",
            "Accuracy: 0.9833151256331314\n",
            "*** Confusion Matrix ***\n",
            "[[  102    38    13     0     0]\n",
            " [    3 18030    24     0    15]\n",
            " [    7    91  1243     0     4]\n",
            " [    0     4     0     0     0]\n",
            " [    0   127    10     0   427]]\n"
          ]
        }
      ],
      "source": [
        "y_pred = model.predict(X_test_scaled)\n",
        "score = accuracy_score(y_test, y_pred)\n",
        "print(score)\n",
        "from sklearn import metrics\n",
        "print(\"Accuracy:\",metrics.accuracy_score(y_test, y_pred))\n",
        "\n",
        "print(\"*** Confusion Matrix ***\")\n",
        "print(metrics.confusion_matrix(y_test, y_pred))"
      ]
    },
    {
      "cell_type": "markdown",
      "source": [
        "**Khởi tạo app xử lý tín hiệu và đưa ra chuẩn đoán bệnh tim**"
      ],
      "metadata": {
        "id": "gzMse08OMnJj"
      }
    },
    {
      "cell_type": "code",
      "execution_count": null,
      "metadata": {
        "id": "fRKYMXKYnuIj"
      },
      "outputs": [],
      "source": [
        "# Khởi tạo ứng dụng Dash\n",
        "app = dash.Dash(__name__)\n",
        "app.title = \"ECG Signal with Abnormal Detection\"\n",
        "# Hàm lọc Wavelet Denoising\n",
        "def wavelet_denoise(signal, wavelet='db6', level=4):\n",
        "    coeffs = pywt.wavedec(signal, wavelet, level=level)\n",
        "    coeffs[1:] = [pywt.threshold(c, value=np.std(c) / 3, mode='soft') for c in coeffs[1:]]\n",
        "    return pywt.waverec(coeffs, wavelet)\n",
        "\n",
        "# Hàm bộ lọc thông thấp\n",
        "def lowpass_filter(signal, fs, cutoff=40, order=4):\n",
        "    nyquist = 0.5 * fs\n",
        "    normal_cutoff = cutoff / nyquist\n",
        "    b, a = butter(order, normal_cutoff, btype='low', analog=False)\n",
        "    return filtfilt(b, a, signal)\n",
        "\n",
        "# Hàm bộ lọc thông cao\n",
        "def highpass_filter(signal, fs, cutoff=0.5, order=4):\n",
        "    nyquist = 0.5 * fs\n",
        "    normal_cutoff = cutoff / nyquist\n",
        "    b, a = butter(order, normal_cutoff, btype='high', analog=False)\n",
        "    return filtfilt(b, a, signal)\n",
        "\n",
        "# Hàm bộ lọc Notch\n",
        "def notch_filter(signal, fs, freq=50, quality=30):\n",
        "    nyquist = 0.5 * fs\n",
        "    notch_freq = freq / nyquist\n",
        "    b, a = iirnotch(notch_freq, quality)\n",
        "    return filtfilt(b, a, signal)\n",
        "# Hàm tính nhịp tim (BPM)\n",
        "def calculate_bpm(peaks, fs):\n",
        "    peak_times = peaks / fs\n",
        "    rr_intervals = np.diff(peak_times)\n",
        "    avg_rr_interval = np.mean(rr_intervals)\n",
        "    heart_rate = 60 / avg_rr_interval\n",
        "    return heart_rate\n",
        "\n",
        "# Hàm tìm đỉnh R bằng phương pháp find_peaks\n",
        "def find_r_peaks(ecg_signal, fs):\n",
        "    distance = fs / 2.5  # Khoảng cách giữa các đỉnh R tối thiểu\n",
        "    height = np.max(ecg_signal) * 0.4  # Độ cao tối thiểu của đỉnh R\n",
        "    peaks, _ = find_peaks(ecg_signal, distance=distance, height=height)\n",
        "    return peaks\n",
        "\n",
        "# Hàm chỉ phát hiện PQRST (giữ nguyên phần đỉnh còn lại)\n",
        "def detect_pqrst(signal, fs):\n",
        "    # Phát hiện đỉnh R bằng find_peaks\n",
        "    r_peaks = find_r_peaks(signal, fs)\n",
        "\n",
        "    # Phân tích các đặc điểm PQRST bằng neurokit2\n",
        "    ecg_report, waves = nk.ecg_delineate(signal, r_peaks, sampling_rate=fs, method=\"dwt\")\n",
        "\n",
        "    # Lấy các vị trí của P, Q, R, S, T\n",
        "    p_peaks = np.array(waves.get(\"ECG_P_Peaks\", []))\n",
        "    q_peaks = np.array(waves.get(\"ECG_Q_Peaks\", []))\n",
        "    s_peaks = np.array(waves.get(\"ECG_S_Peaks\", []))\n",
        "    t_peaks = np.array(waves.get(\"ECG_T_Peaks\", []))\n",
        "\n",
        "    # Loại bỏ giá trị NaN và chuyển sang số nguyên\n",
        "    p_peaks = p_peaks[~np.isnan(p_peaks)].astype(int)\n",
        "    q_peaks = q_peaks[~np.isnan(q_peaks)].astype(int)\n",
        "    s_peaks = s_peaks[~np.isnan(s_peaks)].astype(int)\n",
        "    t_peaks = t_peaks[~np.isnan(t_peaks)].astype(int)\n",
        "\n",
        "    return r_peaks, p_peaks, q_peaks, s_peaks, t_peaks\n",
        "    # Hàm tính ST duration và QRS duration\n",
        "def calculate_durations(r_peaks, p_peaks, q_peaks, s_peaks, t_peaks, fs):\n",
        "    qrs_intervals = []\n",
        "    pq_intervals = []\n",
        "    qt_intervals = []\n",
        "    st_intervals = []\n",
        "    for i in range(min(len(r_peaks), len(q_peaks), len(s_peaks), len(t_peaks), len(p_peaks))):\n",
        "      q_onset = q_peaks[i]\n",
        "      s_offset = s_peaks[i]\n",
        "      t_onset = t_peaks[i]\n",
        "      p_onset = p_peaks[i]\n",
        "      # Tính QRS duration (từ Q đến S)\n",
        "      qrs_duration = (s_offset - q_onset) / fs  # Đơn vị: giây\n",
        "      qrs_intervals.append(qrs_duration)\n",
        "      # Tính PQ duration (từ P đến Q)\n",
        "      pq_duration = (q_onset - p_onset) / fs  # Đơn vị: giây\n",
        "      pq_intervals.append(pq_duration)\n",
        "      # Tính QT duration (từ Q đến T)\n",
        "      qt_duration = (t_onset - q_onset) / fs  # Đơn vị: giây\n",
        "      qt_intervals.append(qt_duration)\n",
        "      # Tính ST duration (từ S đến T)\n",
        "      st_duration = (t_onset - s_offset) / fs  # Đơn vị: giây\n",
        "      st_intervals.append(st_duration)\n",
        "    return qrs_intervals, pq_intervals, qt_intervals, st_intervals\n",
        "# Callback xử lý khi tải lên tệp và phát hiện PQRST\n",
        "@app.callback(\n",
        "    [dash.Output('ecg-graph', 'figure'),\n",
        "     dash.Output('bpm-output', 'children'),\n",
        "     dash.Output('pred-out', 'children'),\n",
        "     dash.Output('alert', 'children')],  # Thêm đầu ra cảnh báo\n",
        "    [dash.Input('upload-data', 'contents')],\n",
        "    [dash.State('upload-data', 'filename')]\n",
        ")\n",
        "def update_graph(contents, filename):\n",
        "    if contents is None:\n",
        "        return {}, \"BPM: --\", \"Prediction: --\", \"\"  # Thêm giá trị trống cho cảnh báo\n",
        "\n",
        "    # Giải mã dữ liệu đã tải lên\n",
        "    content_type, content_string = contents.split(',')\n",
        "    decoded = base64.b64decode(content_string)\n",
        "    df = pd.read_csv(io.StringIO(decoded.decode('utf-8')), header=None)\n",
        "    ecg_signal = df[0].values\n",
        "    fs = 370  # Tần số lấy mẫu\n",
        "\n",
        "    # Áp dụng các bộ lọc\n",
        "    filtered_signal = highpass_filter(ecg_signal, fs)\n",
        "    filtered_signal = lowpass_filter(filtered_signal, fs)\n",
        "    filtered_signal = notch_filter(filtered_signal, fs)\n",
        "\n",
        "    # Áp dụng lọc wavelet\n",
        "    clean_signal = nk.ecg_clean(filtered_signal, sampling_rate=fs, method=\"biosppy\")\n",
        "\n",
        "    # Phát hiện các đỉnh PQRST bằng Neurokit2 và find_peaks\n",
        "    r_peaks, p_peaks, q_peaks, s_peaks, t_peaks = detect_pqrst(clean_signal, fs)\n",
        "\n",
        "    # Prediction logic\n",
        "    rr_intervals = np.diff(r_peaks) / fs\n",
        "    pre_rr = [0] + rr_intervals.tolist()\n",
        "    post_rr = rr_intervals.tolist() + [0]\n",
        "    qrs_intervals, pq_intervals, qt_intervals, st_intervals = calculate_durations(\n",
        "        r_peaks, p_peaks, q_peaks, s_peaks, t_peaks, fs\n",
        "    )\n",
        "    min_length = min(\n",
        "        len(r_peaks), len(q_peaks), len(s_peaks), len(t_peaks), len(p_peaks),\n",
        "        len(pre_rr), len(post_rr), len(qrs_intervals), len(pq_intervals),\n",
        "        len(qt_intervals), len(st_intervals)\n",
        "    )\n",
        "    x_pred = np.array([\n",
        "        pre_rr[:min_length], post_rr[:min_length], p_peaks[:min_length],\n",
        "        t_peaks[:min_length], r_peaks[:min_length], s_peaks[:min_length],\n",
        "        q_peaks[:min_length], qrs_intervals[:min_length], pq_intervals[:min_length],\n",
        "        qt_intervals[:min_length], st_intervals[:min_length]\n",
        "    ]).T\n",
        "    x_pred = min_max_scaler.transform(x_pred)\n",
        "    y_pred = model.predict(x_pred)\n",
        "\n",
        "    # Tính nhịp tim (BPM)\n",
        "    bpm = calculate_bpm(r_peaks, fs)\n",
        "\n",
        "    # Tạo đồ thị với PQRST\n",
        "    figure = {\n",
        "        'data': [\n",
        "            go.Scatter(x=np.arange(len(clean_signal)) / fs, y=clean_signal, mode='lines', name='Clean ECG Signal'),\n",
        "            go.Scatter(x=r_peaks / fs, y=clean_signal[r_peaks], mode='markers', name='R Peaks', marker=dict(color='red', size=10)),\n",
        "            go.Scatter(x=p_peaks / fs, y=clean_signal[p_peaks], mode='markers', name='P Peaks', marker=dict(color='blue', size=8)),\n",
        "            go.Scatter(x=q_peaks / fs, y=clean_signal[q_peaks], mode='markers', name='Q Peaks', marker=dict(color='green', size=8)),\n",
        "            go.Scatter(x=s_peaks / fs, y=clean_signal[s_peaks], mode='markers', name='S Peaks', marker=dict(color='orange', size=8)),\n",
        "            go.Scatter(x=t_peaks / fs, y=clean_signal[t_peaks], mode='markers', name='T Peaks', marker=dict(color='purple', size=8))\n",
        "        ],\n",
        "        'layout': go.Layout(\n",
        "            title='ECG Signal with PQRST Detection and Wavelet Filter',\n",
        "            xaxis=dict(title='Time (s)'),\n",
        "            yaxis=dict(title='Amplitude'),\n",
        "            showlegend=True\n",
        "        )\n",
        "    }\n",
        "\n",
        "    # Cảnh báo nếu BPM vượt ngưỡng\n",
        "    alert = \"\"\n",
        "    if bpm > 90:\n",
        "        alert = \"Cảnh báo: Nhịp tim cao bất thường!\"\n",
        "    elif bpm < 40:\n",
        "        alert = \"Cảnh báo: Nhịp tim thấp bất thường!\"\n",
        "\n",
        "    bpm_text = f\"BPM: {bpm:.2f}\"\n",
        "    y_pred_text = f\"Prediction: {encoder.inverse_transform(y_pred)[0]}\"\n",
        "    return figure, bpm_text, y_pred_text, alert"
      ]
    },
    {
      "cell_type": "markdown",
      "source": [
        "**Thiết lập giao diện người dùng**"
      ],
      "metadata": {
        "id": "BCCAB29ng1Pr"
      }
    },
    {
      "cell_type": "code",
      "source": [
        "#Giao diện người dùng\n",
        "app.layout = html.Div([\n",
        "    html.H1(\"ECG Signal with Abnormal Detection\"),\n",
        "\n",
        "    dcc.Upload(\n",
        "        id='upload-data',\n",
        "        children=html.Div(['Drag and Drop or ', html.A('Select a CSV File')]),\n",
        "        style={\n",
        "            'width': '100%',\n",
        "            'height': '60px',\n",
        "            'lineHeight': '60px',\n",
        "            'borderWidth': '1px',\n",
        "            'borderStyle': 'dashed',\n",
        "            'borderRadius': '5px',\n",
        "            'textAlign': 'center',\n",
        "            'margin': '10px'\n",
        "        },\n",
        "        multiple=False\n",
        "    ),\n",
        "\n",
        "    html.Div(id='bpm-output', style={'fontSize': 24, 'marginTop': '20px'}),\n",
        "    html.Div(id='pred-out', style={'fontSize': 24, 'marginTop': '20px'}),\n",
        "    html.Div(id='alert', style={'fontSize': 24, 'color': 'red', 'marginTop': '20px'}),  # Hiển thị cảnh báo\n",
        "\n",
        "    dcc.Loading(\n",
        "        id=\"loading\",\n",
        "        type=\"circle\",\n",
        "        children=dcc.Graph(id='ecg-graph')\n",
        "    ),\n",
        "])\n",
        "\n",
        "if __name__ == '__main__':\n",
        "    app.run_server(debug=True)"
      ],
      "metadata": {
        "colab": {
          "base_uri": "https://localhost:8080/",
          "height": 672
        },
        "id": "-lhcePbDgQzr",
        "outputId": "3130e13a-593b-4662-ea5e-22f5585ae5ac"
      },
      "execution_count": null,
      "outputs": [
        {
          "output_type": "display_data",
          "data": {
            "text/plain": [
              "<IPython.core.display.Javascript object>"
            ],
            "application/javascript": [
              "(async (port, path, width, height, cache, element) => {\n",
              "    if (!google.colab.kernel.accessAllowed && !cache) {\n",
              "      return;\n",
              "    }\n",
              "    element.appendChild(document.createTextNode(''));\n",
              "    const url = await google.colab.kernel.proxyPort(port, {cache});\n",
              "    const iframe = document.createElement('iframe');\n",
              "    iframe.src = new URL(path, url).toString();\n",
              "    iframe.height = height;\n",
              "    iframe.width = width;\n",
              "    iframe.style.border = 0;\n",
              "    iframe.allow = [\n",
              "        'accelerometer',\n",
              "        'autoplay',\n",
              "        'camera',\n",
              "        'clipboard-read',\n",
              "        'clipboard-write',\n",
              "        'gyroscope',\n",
              "        'magnetometer',\n",
              "        'microphone',\n",
              "        'serial',\n",
              "        'usb',\n",
              "        'xr-spatial-tracking',\n",
              "    ].join('; ');\n",
              "    element.appendChild(iframe);\n",
              "  })(8050, \"/\", \"100%\", 650, false, window.element)"
            ]
          },
          "metadata": {}
        }
      ]
    }
  ],
  "metadata": {
    "colab": {
      "provenance": []
    },
    "kernelspec": {
      "display_name": "Python 3",
      "name": "python3"
    },
    "language_info": {
      "name": "python"
    }
  },
  "nbformat": 4,
  "nbformat_minor": 0
}